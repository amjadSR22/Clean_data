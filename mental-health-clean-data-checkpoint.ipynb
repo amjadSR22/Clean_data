{
 "cells": [
  {
   "cell_type": "code",
   "execution_count": 19,
   "metadata": {
    "execution": {
     "iopub.execute_input": "2022-09-11T18:48:16.923435Z",
     "iopub.status.busy": "2022-09-11T18:48:16.923167Z",
     "iopub.status.idle": "2022-09-11T18:48:16.932133Z",
     "shell.execute_reply": "2022-09-11T18:48:16.931468Z",
     "shell.execute_reply.started": "2022-09-11T18:48:16.923394Z"
    }
   },
   "outputs": [],
   "source": [
    "##load data\n",
    "import pandas as pd\n",
    "mental_data = pd.read_csv('Student Mental health.csv')\n"
   ]
  },
  {
   "cell_type": "code",
   "execution_count": 20,
   "metadata": {
    "execution": {
     "iopub.execute_input": "2022-09-11T18:48:16.954483Z",
     "iopub.status.busy": "2022-09-11T18:48:16.953912Z",
     "iopub.status.idle": "2022-09-11T18:48:16.978271Z",
     "shell.execute_reply": "2022-09-11T18:48:16.977581Z",
     "shell.execute_reply.started": "2022-09-11T18:48:16.954447Z"
    }
   },
   "outputs": [
    {
     "data": {
      "text/html": [
       "<div>\n",
       "<style scoped>\n",
       "    .dataframe tbody tr th:only-of-type {\n",
       "        vertical-align: middle;\n",
       "    }\n",
       "\n",
       "    .dataframe tbody tr th {\n",
       "        vertical-align: top;\n",
       "    }\n",
       "\n",
       "    .dataframe thead th {\n",
       "        text-align: right;\n",
       "    }\n",
       "</style>\n",
       "<table border=\"1\" class=\"dataframe\">\n",
       "  <thead>\n",
       "    <tr style=\"text-align: right;\">\n",
       "      <th></th>\n",
       "      <th>Timestamp</th>\n",
       "      <th>Choose your gender</th>\n",
       "      <th>Age</th>\n",
       "      <th>What is your course?</th>\n",
       "      <th>Your current year of Study</th>\n",
       "      <th>What is your CGPA?</th>\n",
       "      <th>Marital status</th>\n",
       "      <th>Do you have Depression?</th>\n",
       "      <th>Do you have Anxiety?</th>\n",
       "      <th>Do you have Panic attack?</th>\n",
       "      <th>Did you seek any specialist for a treatment?</th>\n",
       "    </tr>\n",
       "  </thead>\n",
       "  <tbody>\n",
       "    <tr>\n",
       "      <th>0</th>\n",
       "      <td>8/7/2020 12:02</td>\n",
       "      <td>Female</td>\n",
       "      <td>18.0</td>\n",
       "      <td>Engineering</td>\n",
       "      <td>year 1</td>\n",
       "      <td>3.00 - 3.49</td>\n",
       "      <td>No</td>\n",
       "      <td>Yes</td>\n",
       "      <td>No</td>\n",
       "      <td>Yes</td>\n",
       "      <td>No</td>\n",
       "    </tr>\n",
       "    <tr>\n",
       "      <th>1</th>\n",
       "      <td>8/7/2020 12:04</td>\n",
       "      <td>Male</td>\n",
       "      <td>21.0</td>\n",
       "      <td>Islamic education</td>\n",
       "      <td>year 2</td>\n",
       "      <td>3.00 - 3.49</td>\n",
       "      <td>No</td>\n",
       "      <td>No</td>\n",
       "      <td>Yes</td>\n",
       "      <td>No</td>\n",
       "      <td>No</td>\n",
       "    </tr>\n",
       "    <tr>\n",
       "      <th>2</th>\n",
       "      <td>8/7/2020 12:05</td>\n",
       "      <td>Male</td>\n",
       "      <td>19.0</td>\n",
       "      <td>BIT</td>\n",
       "      <td>Year 1</td>\n",
       "      <td>3.00 - 3.49</td>\n",
       "      <td>No</td>\n",
       "      <td>Yes</td>\n",
       "      <td>Yes</td>\n",
       "      <td>Yes</td>\n",
       "      <td>No</td>\n",
       "    </tr>\n",
       "    <tr>\n",
       "      <th>3</th>\n",
       "      <td>8/7/2020 12:06</td>\n",
       "      <td>Female</td>\n",
       "      <td>22.0</td>\n",
       "      <td>Laws</td>\n",
       "      <td>year 3</td>\n",
       "      <td>3.00 - 3.49</td>\n",
       "      <td>Yes</td>\n",
       "      <td>Yes</td>\n",
       "      <td>No</td>\n",
       "      <td>No</td>\n",
       "      <td>No</td>\n",
       "    </tr>\n",
       "    <tr>\n",
       "      <th>4</th>\n",
       "      <td>8/7/2020 12:13</td>\n",
       "      <td>Male</td>\n",
       "      <td>23.0</td>\n",
       "      <td>Mathemathics</td>\n",
       "      <td>year 4</td>\n",
       "      <td>3.00 - 3.49</td>\n",
       "      <td>No</td>\n",
       "      <td>No</td>\n",
       "      <td>No</td>\n",
       "      <td>No</td>\n",
       "      <td>No</td>\n",
       "    </tr>\n",
       "    <tr>\n",
       "      <th>...</th>\n",
       "      <td>...</td>\n",
       "      <td>...</td>\n",
       "      <td>...</td>\n",
       "      <td>...</td>\n",
       "      <td>...</td>\n",
       "      <td>...</td>\n",
       "      <td>...</td>\n",
       "      <td>...</td>\n",
       "      <td>...</td>\n",
       "      <td>...</td>\n",
       "      <td>...</td>\n",
       "    </tr>\n",
       "    <tr>\n",
       "      <th>91</th>\n",
       "      <td>13/07/2020 14:38:12</td>\n",
       "      <td>Male</td>\n",
       "      <td>18.0</td>\n",
       "      <td>Koe</td>\n",
       "      <td>Year 2</td>\n",
       "      <td>3.00 - 3.49</td>\n",
       "      <td>No</td>\n",
       "      <td>No</td>\n",
       "      <td>Yes</td>\n",
       "      <td>No</td>\n",
       "      <td>No</td>\n",
       "    </tr>\n",
       "    <tr>\n",
       "      <th>92</th>\n",
       "      <td>13/07/2020 14:48:05</td>\n",
       "      <td>Female</td>\n",
       "      <td>19.0</td>\n",
       "      <td>KOE</td>\n",
       "      <td>year 2</td>\n",
       "      <td>3.00 - 3.49</td>\n",
       "      <td>Yes</td>\n",
       "      <td>Yes</td>\n",
       "      <td>No</td>\n",
       "      <td>No</td>\n",
       "      <td>No</td>\n",
       "    </tr>\n",
       "    <tr>\n",
       "      <th>93</th>\n",
       "      <td>13/07/2020 16:15:13</td>\n",
       "      <td>Female</td>\n",
       "      <td>18.0</td>\n",
       "      <td>BENL</td>\n",
       "      <td>year 1</td>\n",
       "      <td>3.00 - 3.49</td>\n",
       "      <td>No</td>\n",
       "      <td>Yes</td>\n",
       "      <td>No</td>\n",
       "      <td>No</td>\n",
       "      <td>No</td>\n",
       "    </tr>\n",
       "    <tr>\n",
       "      <th>94</th>\n",
       "      <td>13/07/2020 17:30:44</td>\n",
       "      <td>Female</td>\n",
       "      <td>24.0</td>\n",
       "      <td>Fiqh</td>\n",
       "      <td>Year 3</td>\n",
       "      <td>0 - 1.99</td>\n",
       "      <td>No</td>\n",
       "      <td>No</td>\n",
       "      <td>No</td>\n",
       "      <td>Yes</td>\n",
       "      <td>No</td>\n",
       "    </tr>\n",
       "    <tr>\n",
       "      <th>95</th>\n",
       "      <td>13/07/2020 19:08:32</td>\n",
       "      <td>Female</td>\n",
       "      <td>18.0</td>\n",
       "      <td>Islamic Education</td>\n",
       "      <td>year 1</td>\n",
       "      <td>3.50 - 4.00</td>\n",
       "      <td>No</td>\n",
       "      <td>No</td>\n",
       "      <td>No</td>\n",
       "      <td>No</td>\n",
       "      <td>No</td>\n",
       "    </tr>\n",
       "  </tbody>\n",
       "</table>\n",
       "<p>96 rows × 11 columns</p>\n",
       "</div>"
      ],
      "text/plain": [
       "              Timestamp Choose your gender   Age What is your course?  \\\n",
       "0        8/7/2020 12:02             Female  18.0          Engineering   \n",
       "1        8/7/2020 12:04               Male  21.0    Islamic education   \n",
       "2        8/7/2020 12:05               Male  19.0                  BIT   \n",
       "3        8/7/2020 12:06             Female  22.0                 Laws   \n",
       "4        8/7/2020 12:13               Male  23.0         Mathemathics   \n",
       "..                  ...                ...   ...                  ...   \n",
       "91  13/07/2020 14:38:12               Male  18.0                  Koe   \n",
       "92  13/07/2020 14:48:05             Female  19.0                  KOE   \n",
       "93  13/07/2020 16:15:13             Female  18.0                 BENL   \n",
       "94  13/07/2020 17:30:44             Female  24.0                 Fiqh   \n",
       "95  13/07/2020 19:08:32             Female  18.0    Islamic Education   \n",
       "\n",
       "   Your current year of Study What is your CGPA? Marital status  \\\n",
       "0                      year 1        3.00 - 3.49             No   \n",
       "1                      year 2        3.00 - 3.49             No   \n",
       "2                      Year 1        3.00 - 3.49             No   \n",
       "3                      year 3        3.00 - 3.49            Yes   \n",
       "4                      year 4        3.00 - 3.49             No   \n",
       "..                        ...                ...            ...   \n",
       "91                     Year 2        3.00 - 3.49             No   \n",
       "92                     year 2        3.00 - 3.49            Yes   \n",
       "93                     year 1        3.00 - 3.49             No   \n",
       "94                     Year 3           0 - 1.99             No   \n",
       "95                     year 1        3.50 - 4.00             No   \n",
       "\n",
       "   Do you have Depression? Do you have Anxiety? Do you have Panic attack?  \\\n",
       "0                      Yes                   No                       Yes   \n",
       "1                       No                  Yes                        No   \n",
       "2                      Yes                  Yes                       Yes   \n",
       "3                      Yes                   No                        No   \n",
       "4                       No                   No                        No   \n",
       "..                     ...                  ...                       ...   \n",
       "91                      No                  Yes                        No   \n",
       "92                     Yes                   No                        No   \n",
       "93                     Yes                   No                        No   \n",
       "94                      No                   No                       Yes   \n",
       "95                      No                   No                        No   \n",
       "\n",
       "   Did you seek any specialist for a treatment?  \n",
       "0                                            No  \n",
       "1                                            No  \n",
       "2                                            No  \n",
       "3                                            No  \n",
       "4                                            No  \n",
       "..                                          ...  \n",
       "91                                           No  \n",
       "92                                           No  \n",
       "93                                           No  \n",
       "94                                           No  \n",
       "95                                           No  \n",
       "\n",
       "[96 rows x 11 columns]"
      ]
     },
     "execution_count": 20,
     "metadata": {},
     "output_type": "execute_result"
    }
   ],
   "source": [
    "mental_data.head(-5)\n"
   ]
  },
  {
   "cell_type": "code",
   "execution_count": 21,
   "metadata": {
    "execution": {
     "iopub.execute_input": "2022-09-11T18:48:16.980165Z",
     "iopub.status.busy": "2022-09-11T18:48:16.979741Z",
     "iopub.status.idle": "2022-09-11T18:48:16.991648Z",
     "shell.execute_reply": "2022-09-11T18:48:16.990753Z",
     "shell.execute_reply.started": "2022-09-11T18:48:16.980132Z"
    }
   },
   "outputs": [
    {
     "name": "stdout",
     "output_type": "stream",
     "text": [
      "<class 'pandas.core.frame.DataFrame'>\n",
      "RangeIndex: 101 entries, 0 to 100\n",
      "Data columns (total 11 columns):\n",
      " #   Column                                        Non-Null Count  Dtype  \n",
      "---  ------                                        --------------  -----  \n",
      " 0   Timestamp                                     101 non-null    object \n",
      " 1   Choose your gender                            101 non-null    object \n",
      " 2   Age                                           100 non-null    float64\n",
      " 3   What is your course?                          101 non-null    object \n",
      " 4   Your current year of Study                    101 non-null    object \n",
      " 5   What is your CGPA?                            101 non-null    object \n",
      " 6   Marital status                                101 non-null    object \n",
      " 7   Do you have Depression?                       101 non-null    object \n",
      " 8   Do you have Anxiety?                          101 non-null    object \n",
      " 9   Do you have Panic attack?                     101 non-null    object \n",
      " 10  Did you seek any specialist for a treatment?  101 non-null    object \n",
      "dtypes: float64(1), object(10)\n",
      "memory usage: 8.8+ KB\n"
     ]
    }
   ],
   "source": [
    "mental_data.info()\n"
   ]
  },
  {
   "cell_type": "code",
   "execution_count": 22,
   "metadata": {
    "execution": {
     "iopub.execute_input": "2022-09-11T18:48:16.994212Z",
     "iopub.status.busy": "2022-09-11T18:48:16.993641Z",
     "iopub.status.idle": "2022-09-11T18:48:17.004831Z",
     "shell.execute_reply": "2022-09-11T18:48:17.004069Z",
     "shell.execute_reply.started": "2022-09-11T18:48:16.994162Z"
    }
   },
   "outputs": [
    {
     "data": {
      "text/plain": [
       "array(['year 1', 'year 2', 'Year 1', 'year 3', 'year 4', 'Year 2',\n",
       "       'Year 3'], dtype=object)"
      ]
     },
     "execution_count": 22,
     "metadata": {},
     "output_type": "execute_result"
    }
   ],
   "source": [
    "mental_data['Your current year of Study'].unique()\n"
   ]
  },
  {
   "cell_type": "code",
   "execution_count": 23,
   "metadata": {
    "execution": {
     "iopub.execute_input": "2022-09-11T18:48:17.010007Z",
     "iopub.status.busy": "2022-09-11T18:48:17.009489Z",
     "iopub.status.idle": "2022-09-11T18:48:17.017893Z",
     "shell.execute_reply": "2022-09-11T18:48:17.017259Z",
     "shell.execute_reply.started": "2022-09-11T18:48:17.009958Z"
    }
   },
   "outputs": [
    {
     "data": {
      "text/plain": [
       "array(['Engineering', 'Islamic education', 'BIT', 'Laws', 'Mathemathics',\n",
       "       'Pendidikan islam', 'BCS', 'Human Resources', 'Irkhs',\n",
       "       'Psychology', 'KENMS', 'Accounting ', 'ENM', 'Marine science',\n",
       "       'KOE', 'Banking Studies', 'Business Administration', 'Law',\n",
       "       'KIRKHS', 'Usuluddin ', 'TAASL', 'Engine', 'ALA',\n",
       "       'Biomedical science', 'koe', 'Kirkhs', 'BENL', 'Benl', 'IT', 'CTS',\n",
       "       'engin', 'Econs', 'MHSC', 'Malcom', 'Kop', 'Human Sciences ',\n",
       "       'Biotechnology', 'Communication ', 'Diploma Nursing',\n",
       "       'Pendidikan Islam ', 'Radiography', 'psychology', 'Fiqh fatwa ',\n",
       "       'DIPLOMA TESL', 'Koe', 'Fiqh', 'Islamic Education', 'Nursing ',\n",
       "       'Pendidikan Islam'], dtype=object)"
      ]
     },
     "execution_count": 23,
     "metadata": {},
     "output_type": "execute_result"
    }
   ],
   "source": [
    "mental_data['What is your course?'].unique()\n"
   ]
  },
  {
   "cell_type": "code",
   "execution_count": 24,
   "metadata": {
    "execution": {
     "iopub.execute_input": "2022-09-11T18:48:17.024600Z",
     "iopub.status.busy": "2022-09-11T18:48:17.023959Z",
     "iopub.status.idle": "2022-09-11T18:48:17.031241Z",
     "shell.execute_reply": "2022-09-11T18:48:17.030283Z",
     "shell.execute_reply.started": "2022-09-11T18:48:17.024561Z"
    }
   },
   "outputs": [
    {
     "data": {
      "text/plain": [
       "array([18., 21., 19., 22., 23., 20., 24., nan])"
      ]
     },
     "execution_count": 24,
     "metadata": {},
     "output_type": "execute_result"
    }
   ],
   "source": [
    "mental_data['Age'].unique()\n"
   ]
  },
  {
   "cell_type": "code",
   "execution_count": 25,
   "metadata": {
    "execution": {
     "iopub.execute_input": "2022-09-11T18:48:17.059895Z",
     "iopub.status.busy": "2022-09-11T18:48:17.059401Z",
     "iopub.status.idle": "2022-09-11T18:48:17.066310Z",
     "shell.execute_reply": "2022-09-11T18:48:17.065539Z",
     "shell.execute_reply.started": "2022-09-11T18:48:17.059847Z"
    }
   },
   "outputs": [
    {
     "data": {
      "text/plain": [
       "array(['3.00 - 3.49', '3.50 - 4.00', '3.50 - 4.00 ', '2.50 - 2.99',\n",
       "       '2.00 - 2.49', '0 - 1.99'], dtype=object)"
      ]
     },
     "execution_count": 25,
     "metadata": {},
     "output_type": "execute_result"
    }
   ],
   "source": [
    "mental_data['What is your CGPA?'].unique()"
   ]
  },
  {
   "cell_type": "code",
   "execution_count": 26,
   "metadata": {
    "execution": {
     "iopub.execute_input": "2022-09-11T18:48:17.082460Z",
     "iopub.status.busy": "2022-09-11T18:48:17.082011Z",
     "iopub.status.idle": "2022-09-11T18:48:17.100032Z",
     "shell.execute_reply": "2022-09-11T18:48:17.099468Z",
     "shell.execute_reply.started": "2022-09-11T18:48:17.082425Z"
    }
   },
   "outputs": [
    {
     "data": {
      "text/html": [
       "<div>\n",
       "<style scoped>\n",
       "    .dataframe tbody tr th:only-of-type {\n",
       "        vertical-align: middle;\n",
       "    }\n",
       "\n",
       "    .dataframe tbody tr th {\n",
       "        vertical-align: top;\n",
       "    }\n",
       "\n",
       "    .dataframe thead th {\n",
       "        text-align: right;\n",
       "    }\n",
       "</style>\n",
       "<table border=\"1\" class=\"dataframe\">\n",
       "  <thead>\n",
       "    <tr style=\"text-align: right;\">\n",
       "      <th></th>\n",
       "      <th>Timestamp</th>\n",
       "      <th>Choose your gender</th>\n",
       "      <th>Age</th>\n",
       "      <th>What is your course?</th>\n",
       "      <th>Your current year of Study</th>\n",
       "      <th>What is your CGPA?</th>\n",
       "      <th>Marital status</th>\n",
       "      <th>Do you have Depression?</th>\n",
       "      <th>Do you have Anxiety?</th>\n",
       "      <th>Do you have Panic attack?</th>\n",
       "      <th>Did you seek any specialist for a treatment?</th>\n",
       "    </tr>\n",
       "  </thead>\n",
       "  <tbody>\n",
       "    <tr>\n",
       "      <th>0</th>\n",
       "      <td>8/7/2020 12:02</td>\n",
       "      <td>Female</td>\n",
       "      <td>18.0</td>\n",
       "      <td>Engineering</td>\n",
       "      <td>year 1</td>\n",
       "      <td>3.00 - 3.49</td>\n",
       "      <td>No</td>\n",
       "      <td>Yes</td>\n",
       "      <td>No</td>\n",
       "      <td>Yes</td>\n",
       "      <td>No</td>\n",
       "    </tr>\n",
       "    <tr>\n",
       "      <th>1</th>\n",
       "      <td>8/7/2020 12:04</td>\n",
       "      <td>Male</td>\n",
       "      <td>21.0</td>\n",
       "      <td>Islamic education</td>\n",
       "      <td>year 2</td>\n",
       "      <td>3.00 - 3.49</td>\n",
       "      <td>No</td>\n",
       "      <td>No</td>\n",
       "      <td>Yes</td>\n",
       "      <td>No</td>\n",
       "      <td>No</td>\n",
       "    </tr>\n",
       "    <tr>\n",
       "      <th>2</th>\n",
       "      <td>8/7/2020 12:05</td>\n",
       "      <td>Male</td>\n",
       "      <td>19.0</td>\n",
       "      <td>BIT</td>\n",
       "      <td>Year 1</td>\n",
       "      <td>3.00 - 3.49</td>\n",
       "      <td>No</td>\n",
       "      <td>Yes</td>\n",
       "      <td>Yes</td>\n",
       "      <td>Yes</td>\n",
       "      <td>No</td>\n",
       "    </tr>\n",
       "    <tr>\n",
       "      <th>3</th>\n",
       "      <td>8/7/2020 12:06</td>\n",
       "      <td>Female</td>\n",
       "      <td>22.0</td>\n",
       "      <td>Laws</td>\n",
       "      <td>year 3</td>\n",
       "      <td>3.00 - 3.49</td>\n",
       "      <td>Yes</td>\n",
       "      <td>Yes</td>\n",
       "      <td>No</td>\n",
       "      <td>No</td>\n",
       "      <td>No</td>\n",
       "    </tr>\n",
       "    <tr>\n",
       "      <th>4</th>\n",
       "      <td>8/7/2020 12:13</td>\n",
       "      <td>Male</td>\n",
       "      <td>23.0</td>\n",
       "      <td>Mathemathics</td>\n",
       "      <td>year 4</td>\n",
       "      <td>3.00 - 3.49</td>\n",
       "      <td>No</td>\n",
       "      <td>No</td>\n",
       "      <td>No</td>\n",
       "      <td>No</td>\n",
       "      <td>No</td>\n",
       "    </tr>\n",
       "  </tbody>\n",
       "</table>\n",
       "</div>"
      ],
      "text/plain": [
       "        Timestamp Choose your gender   Age What is your course?  \\\n",
       "0  8/7/2020 12:02             Female  18.0          Engineering   \n",
       "1  8/7/2020 12:04               Male  21.0    Islamic education   \n",
       "2  8/7/2020 12:05               Male  19.0                  BIT   \n",
       "3  8/7/2020 12:06             Female  22.0                 Laws   \n",
       "4  8/7/2020 12:13               Male  23.0         Mathemathics   \n",
       "\n",
       "  Your current year of Study What is your CGPA? Marital status  \\\n",
       "0                     year 1        3.00 - 3.49             No   \n",
       "1                     year 2        3.00 - 3.49             No   \n",
       "2                     Year 1        3.00 - 3.49             No   \n",
       "3                     year 3        3.00 - 3.49            Yes   \n",
       "4                     year 4        3.00 - 3.49             No   \n",
       "\n",
       "  Do you have Depression? Do you have Anxiety? Do you have Panic attack?  \\\n",
       "0                     Yes                   No                       Yes   \n",
       "1                      No                  Yes                        No   \n",
       "2                     Yes                  Yes                       Yes   \n",
       "3                     Yes                   No                        No   \n",
       "4                      No                   No                        No   \n",
       "\n",
       "  Did you seek any specialist for a treatment?  \n",
       "0                                           No  \n",
       "1                                           No  \n",
       "2                                           No  \n",
       "3                                           No  \n",
       "4                                           No  "
      ]
     },
     "execution_count": 26,
     "metadata": {},
     "output_type": "execute_result"
    }
   ],
   "source": [
    "mental_data.head()\n"
   ]
  },
  {
   "cell_type": "code",
   "execution_count": 27,
   "metadata": {
    "execution": {
     "iopub.execute_input": "2022-09-11T18:48:17.162573Z",
     "iopub.status.busy": "2022-09-11T18:48:17.161886Z",
     "iopub.status.idle": "2022-09-11T18:48:17.167261Z",
     "shell.execute_reply": "2022-09-11T18:48:17.166505Z",
     "shell.execute_reply.started": "2022-09-11T18:48:17.162538Z"
    }
   },
   "outputs": [],
   "source": [
    "mental_data.rename(columns = {'Choose your gender': 'gender', 'What is your course?':'Course', 'Your current year of Study':'year_of_study' } , inplace = True )\n"
   ]
  },
  {
   "cell_type": "code",
   "execution_count": 28,
   "metadata": {
    "execution": {
     "iopub.execute_input": "2022-09-11T18:48:17.169847Z",
     "iopub.status.busy": "2022-09-11T18:48:17.168977Z",
     "iopub.status.idle": "2022-09-11T18:48:17.178331Z",
     "shell.execute_reply": "2022-09-11T18:48:17.177665Z",
     "shell.execute_reply.started": "2022-09-11T18:48:17.169814Z"
    }
   },
   "outputs": [],
   "source": [
    "mental_data.rename(columns= {'What is your CGPA?':'CGPA' ,'Marital status':'Matrial_status' , 'Do you have Depression?':'Depression', 'Do you have Panic attack?' :'panic_attack'}, inplace= True)"
   ]
  },
  {
   "cell_type": "code",
   "execution_count": 29,
   "metadata": {
    "execution": {
     "iopub.execute_input": "2022-09-11T18:48:17.179716Z",
     "iopub.status.busy": "2022-09-11T18:48:17.179491Z",
     "iopub.status.idle": "2022-09-11T18:48:17.199732Z",
     "shell.execute_reply": "2022-09-11T18:48:17.198997Z",
     "shell.execute_reply.started": "2022-09-11T18:48:17.179687Z"
    }
   },
   "outputs": [
    {
     "name": "stdout",
     "output_type": "stream",
     "text": [
      "<class 'pandas.core.frame.DataFrame'>\n",
      "RangeIndex: 101 entries, 0 to 100\n",
      "Data columns (total 11 columns):\n",
      " #   Column                      Non-Null Count  Dtype  \n",
      "---  ------                      --------------  -----  \n",
      " 0   Timestamp                   101 non-null    object \n",
      " 1   gender                      101 non-null    object \n",
      " 2   Age                         100 non-null    float64\n",
      " 3   Course                      101 non-null    object \n",
      " 4   year_of_study               101 non-null    object \n",
      " 5   CGPA                        101 non-null    object \n",
      " 6   Matrial_status              101 non-null    object \n",
      " 7   Depression                  101 non-null    object \n",
      " 8   Anxiety                     101 non-null    object \n",
      " 9   panic_attack                101 non-null    object \n",
      " 10  seek_speciallist_treatment  101 non-null    object \n",
      "dtypes: float64(1), object(10)\n",
      "memory usage: 8.8+ KB\n"
     ]
    }
   ],
   "source": [
    "mental_data.rename(columns = {'Do you have Anxiety?' :'Anxiety', 'Did you seek any specialist for a treatment?': 'seek_speciallist_treatment'} , inplace = True)\n",
    "mental_data.info()"
   ]
  },
  {
   "cell_type": "code",
   "execution_count": 30,
   "metadata": {
    "execution": {
     "iopub.execute_input": "2022-09-11T18:48:17.203073Z",
     "iopub.status.busy": "2022-09-11T18:48:17.202183Z",
     "iopub.status.idle": "2022-09-11T18:48:17.208802Z",
     "shell.execute_reply": "2022-09-11T18:48:17.208211Z",
     "shell.execute_reply.started": "2022-09-11T18:48:17.203038Z"
    }
   },
   "outputs": [],
   "source": [
    "mental_data.dropna(axis=0 , how = 'any' , inplace = True)\n"
   ]
  },
  {
   "cell_type": "code",
   "execution_count": 31,
   "metadata": {
    "execution": {
     "iopub.execute_input": "2022-09-11T18:48:17.210422Z",
     "iopub.status.busy": "2022-09-11T18:48:17.210073Z",
     "iopub.status.idle": "2022-09-11T18:48:17.219086Z",
     "shell.execute_reply": "2022-09-11T18:48:17.218356Z",
     "shell.execute_reply.started": "2022-09-11T18:48:17.210391Z"
    }
   },
   "outputs": [],
   "source": [
    "mental_data['year_of_study'].replace({'Year 2': '2' , 'year 2':'2' , 'Year 3':'3' , 'year 3':'3' , 'Year 1':'1','year 4':'4','year 1': '1'} , inplace = True)"
   ]
  },
  {
   "cell_type": "code",
   "execution_count": 32,
   "metadata": {
    "execution": {
     "iopub.execute_input": "2022-09-11T18:48:17.220879Z",
     "iopub.status.busy": "2022-09-11T18:48:17.220652Z",
     "iopub.status.idle": "2022-09-11T18:48:17.230860Z",
     "shell.execute_reply": "2022-09-11T18:48:17.230066Z",
     "shell.execute_reply.started": "2022-09-11T18:48:17.220850Z"
    }
   },
   "outputs": [],
   "source": [
    "mental_data['Course'].replace({'koe':'Koe', 'KOE':'Koe','BENL':'benl'}, inplace = True)"
   ]
  },
  {
   "cell_type": "code",
   "execution_count": 33,
   "metadata": {
    "execution": {
     "iopub.execute_input": "2022-09-11T18:48:17.235604Z",
     "iopub.status.busy": "2022-09-11T18:48:17.235376Z",
     "iopub.status.idle": "2022-09-11T18:48:17.252408Z",
     "shell.execute_reply": "2022-09-11T18:48:17.251568Z",
     "shell.execute_reply.started": "2022-09-11T18:48:17.235575Z"
    }
   },
   "outputs": [],
   "source": [
    "mental_data['Timestamp'] = pd.to_datetime(mental_data['Timestamp'])"
   ]
  },
  {
   "cell_type": "code",
   "execution_count": 34,
   "metadata": {
    "execution": {
     "iopub.execute_input": "2022-09-11T18:48:17.263076Z",
     "iopub.status.busy": "2022-09-11T18:48:17.262643Z",
     "iopub.status.idle": "2022-09-11T18:48:17.268168Z",
     "shell.execute_reply": "2022-09-11T18:48:17.267596Z",
     "shell.execute_reply.started": "2022-09-11T18:48:17.263029Z"
    }
   },
   "outputs": [],
   "source": [
    "mental_data['CGPA'] = [x.strip() for x in mental_data['CGPA']]\n"
   ]
  },
  {
   "cell_type": "code",
   "execution_count": 35,
   "metadata": {
    "execution": {
     "iopub.execute_input": "2022-09-11T18:48:17.321485Z",
     "iopub.status.busy": "2022-09-11T18:48:17.321191Z",
     "iopub.status.idle": "2022-09-11T18:48:17.327700Z",
     "shell.execute_reply": "2022-09-11T18:48:17.327027Z",
     "shell.execute_reply.started": "2022-09-11T18:48:17.321453Z"
    }
   },
   "outputs": [
    {
     "data": {
      "text/plain": [
       "array(['3.00 - 3.49', '3.50 - 4.00', '2.50 - 2.99', '2.00 - 2.49',\n",
       "       '0 - 1.99'], dtype=object)"
      ]
     },
     "execution_count": 35,
     "metadata": {},
     "output_type": "execute_result"
    }
   ],
   "source": [
    "mental_data['CGPA'].unique()"
   ]
  }
 ],
 "metadata": {
  "kernelspec": {
   "display_name": "Python 3",
   "language": "python",
   "name": "python3"
  },
  "language_info": {
   "codemirror_mode": {
    "name": "ipython",
    "version": 3
   },
   "file_extension": ".py",
   "mimetype": "text/x-python",
   "name": "python",
   "nbconvert_exporter": "python",
   "pygments_lexer": "ipython3",
   "version": "3.8.5"
  }
 },
 "nbformat": 4,
 "nbformat_minor": 4
}
